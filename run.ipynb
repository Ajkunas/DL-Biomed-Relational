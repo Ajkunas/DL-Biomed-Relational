{
 "cells": [
  {
   "cell_type": "code",
   "execution_count": 3,
   "metadata": {},
   "outputs": [
    {
     "name": "stderr",
     "output_type": "stream",
     "text": [
      "Downloading...\n",
      "From (uriginal): https://drive.google.com/uc?id=1ZTQJu6kzHSj2BE1tIjPGN23dlUZ6i9Zp\n",
      "From (redirected): https://drive.google.com/uc?id=1ZTQJu6kzHSj2BE1tIjPGN23dlUZ6i9Zp&confirm=t&uuid=f8d7e1d9-69b9-4a2c-903c-a201e03fe171\n",
      "To: /home/hichemhadhri/DL-Biomed-Relational/data/swissprot/data-1.zip\n"
     ]
    },
    {
     "name": "stderr",
     "output_type": "stream",
     "text": [
      "100%|██████████| 5.58G/5.58G [00:26<00:00, 210MB/s]\n"
     ]
    },
    {
     "data": {
      "text/plain": [
       "'data/swissprot/data-1.zip'"
      ]
     },
     "execution_count": 3,
     "metadata": {},
     "output_type": "execute_result"
    }
   ],
   "source": [
    "import gdown\n",
    "\n",
    "# Replace the 'file_id' with the actual file ID from the Google Drive shareable link\n",
    "file_id = '1ZTQJu6kzHSj2BE1tIjPGN23dlUZ6i9Zp'\n",
    "url = f'https://drive.google.com/uc?id={file_id}'\n",
    "\n",
    "# Replace 'output' with the desired output file name\n",
    "output = 'data/swissprot/data-1.zip'\n",
    "\n",
    "gdown.download(url, output, quiet=False)\n",
    "\n",
    "# extract the data\n",
    "import zipfile\n",
    "with zipfile.ZipFile(output, 'r') as zip_ref:\n",
    "    zip_ref.extractall('data/swissprot/')\n",
    "    \n"
   ]
  },
  {
   "cell_type": "code",
   "execution_count": 5,
   "metadata": {},
   "outputs": [
    {
     "name": "stderr",
     "output_type": "stream",
     "text": [
      "Downloading...\n",
      "From (uriginal): https://drive.google.com/uc?id=1a3IFmUMUXBH8trx_VWKZEGteRiotOkZS\n",
      "From (redirected): https://drive.google.com/uc?id=1a3IFmUMUXBH8trx_VWKZEGteRiotOkZS&confirm=t&uuid=189b7901-a897-4d8f-abe7-f229250a74a5\n",
      "To: /home/hichemhadhri/DL-Biomed-Relational/data/swissprot/data-2.zip\n",
      "100%|██████████| 180M/180M [00:03<00:00, 54.5MB/s]\n"
     ]
    }
   ],
   "source": [
    "import gdown\n",
    "\n",
    "# Replace the 'file_id' with the actual file ID from the Google Drive shareable link\n",
    "file_id = '1a3IFmUMUXBH8trx_VWKZEGteRiotOkZS'\n",
    "url = f'https://drive.google.com/uc?id={file_id}'\n",
    "\n",
    "# Replace 'output' with the desired output file name\n",
    "output = 'data/swissprot/data-2.zip'\n",
    "\n",
    "gdown.download(url, output, quiet=False)\n",
    "\n",
    "# extract the data\n",
    "import zipfile\n",
    "with zipfile.ZipFile(output, 'r') as zip_ref:\n",
    "    zip_ref.extractall('./')\n"
   ]
  },
  {
   "cell_type": "code",
   "execution_count": 6,
   "metadata": {},
   "outputs": [
    {
     "name": "stderr",
     "output_type": "stream",
     "text": [
      "Downloading...\n",
      "From (uriginal): https://drive.google.com/uc?id=1vRR5EeeE0JfgdFYNoput1yR2H6wNWAG2\n",
      "From (redirected): https://drive.google.com/uc?id=1vRR5EeeE0JfgdFYNoput1yR2H6wNWAG2&confirm=t&uuid=d181198d-6638-497f-8deb-5d005fcbfda0\n",
      "To: /home/hichemhadhri/DL-Biomed-Relational/data/swissprot/data-3.zip\n",
      "100%|██████████| 161M/161M [00:03<00:00, 41.7MB/s]\n"
     ]
    }
   ],
   "source": [
    "\n",
    "\n",
    "# Replace the 'file_id' with the actual file ID from the Google Drive shareable link\n",
    "file_id = '1vRR5EeeE0JfgdFYNoput1yR2H6wNWAG2'\n",
    "url = f'https://drive.google.com/uc?id={file_id}'\n",
    "\n",
    "# Replace 'output' with the desired output file name\n",
    "output = 'data/swissprot/data-3.zip'\n",
    "\n",
    "gdown.download(url, output, quiet=False)\n",
    "\n",
    "# extract the data\n",
    "import zipfile\n",
    "with zipfile.ZipFile(output, 'r') as zip_ref:\n",
    "    zip_ref.extractall('data/swissprot/')"
   ]
  },
  {
   "cell_type": "code",
   "execution_count": 46,
   "metadata": {},
   "outputs": [
    {
     "name": "stdout",
     "output_type": "stream",
     "text": [
      "tensor([[4, 7, 7, 3],\n",
      "        [4, 7, 7, 3]])\n",
      "tensor([[6, 6, 9, 3],\n",
      "        [5, 9, 2, 6],\n",
      "        [4, 0, 6, 1],\n",
      "        [4, 9, 3, 4],\n",
      "        [8, 9, 8, 5],\n",
      "        [3, 8, 6, 9]])\n",
      "tensor([[4, 7, 7, 3, 6, 6, 9, 3],\n",
      "        [4, 7, 7, 3, 6, 6, 9, 3],\n",
      "        [4, 7, 7, 3, 5, 9, 2, 6],\n",
      "        [4, 7, 7, 3, 5, 9, 2, 6],\n",
      "        [4, 7, 7, 3, 4, 0, 6, 1],\n",
      "        [4, 7, 7, 3, 4, 0, 6, 1],\n",
      "        [4, 7, 7, 3, 4, 9, 3, 4],\n",
      "        [4, 7, 7, 3, 4, 9, 3, 4],\n",
      "        [4, 7, 7, 3, 8, 9, 8, 5],\n",
      "        [4, 7, 7, 3, 8, 9, 8, 5],\n",
      "        [4, 7, 7, 3, 3, 8, 6, 9],\n",
      "        [4, 7, 7, 3, 3, 8, 6, 9]])\n",
      "tensor([[0.1187],\n",
      "        [0.9621],\n",
      "        [0.4910],\n",
      "        [0.3155],\n",
      "        [0.3117],\n",
      "        [0.9652],\n",
      "        [0.2857],\n",
      "        [0.8461],\n",
      "        [0.1668],\n",
      "        [0.9221],\n",
      "        [0.8401],\n",
      "        [0.7171]])\n",
      "torch.Size([6, 2])\n"
     ]
    }
   ],
   "source": [
    "import torch\n",
    "import torch.nn as nn\n",
    "import numpy as np\n",
    "\n",
    "\n",
    "\n",
    "z_protos = torch.randint(0,10,(2,4))\n",
    "z_queries = torch.randint(0,10,(6,4))\n",
    "print(z_protos)\n",
    "print(z_queries)\n",
    "\n",
    "\n",
    "# repeat z_protos 5 times   \n",
    "z_queries = z_queries.repeat_interleave(2,0)\n",
    "\n",
    "z_protos = z_protos.repeat(6,1)\n",
    "\n",
    "# concat z_protos and z_queries\n",
    "z_protos = torch.cat((z_protos,z_queries),1)\n",
    "\n",
    "print(z_protos)\n",
    "\n",
    "\n",
    "scores = torch.rand(12,1)\n",
    "print(scores)\n",
    "\n",
    "scores = scores.view(-1,2)\n",
    "print(scores.shape)\n",
    "\n",
    "\n"
   ]
  },
  {
   "cell_type": "code",
   "execution_count": 47,
   "metadata": {},
   "outputs": [
    {
     "data": {
      "text/plain": [
       "torch.Size([75])"
      ]
     },
     "execution_count": 47,
     "metadata": {},
     "output_type": "execute_result"
    }
   ],
   "source": [
    "torch.from_numpy(np.repeat(range( 5), 15 )).shape"
   ]
  },
  {
   "cell_type": "code",
   "execution_count": 21,
   "metadata": {},
   "outputs": [
    {
     "data": {
      "text/plain": [
       "torch.Size([50, 5])"
      ]
     },
     "execution_count": 21,
     "metadata": {},
     "output_type": "execute_result"
    }
   ],
   "source": [
    "def euclidean_dist( x, y):\n",
    "    # x: N x D\n",
    "    # y: M x D\n",
    "    n = x.size(0)\n",
    "    m = y.size(0)\n",
    "    d = x.size(1)\n",
    "    assert d == y.size(1)\n",
    "\n",
    "    x = x.unsqueeze(1).expand(n, m, d)\n",
    "    y = y.unsqueeze(0).expand(n, m, d)\n",
    "\n",
    "    return torch.pow(x - y, 2).sum(2)\n",
    "\n",
    "\n",
    "euclidean_dist(z_queries, z_protos).shape"
   ]
  },
  {
   "cell_type": "code",
   "execution_count": null,
   "metadata": {},
   "outputs": [],
   "source": []
  }
 ],
 "metadata": {
  "kernelspec": {
   "display_name": "fewshotbench",
   "language": "python",
   "name": "python3"
  },
  "language_info": {
   "codemirror_mode": {
    "name": "ipython",
    "version": 3
   },
   "file_extension": ".py",
   "mimetype": "text/x-python",
   "name": "python",
   "nbconvert_exporter": "python",
   "pygments_lexer": "ipython3",
   "version": "3.10.11"
  }
 },
 "nbformat": 4,
 "nbformat_minor": 2
}
