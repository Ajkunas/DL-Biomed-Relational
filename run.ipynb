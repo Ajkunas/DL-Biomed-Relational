{
 "cells": [
  {
   "cell_type": "code",
   "execution_count": 46,
   "metadata": {},
   "outputs": [
    {
     "name": "stdout",
     "output_type": "stream",
     "text": [
      "tensor([[4, 7, 7, 3],\n",
      "        [4, 7, 7, 3]])\n",
      "tensor([[6, 6, 9, 3],\n",
      "        [5, 9, 2, 6],\n",
      "        [4, 0, 6, 1],\n",
      "        [4, 9, 3, 4],\n",
      "        [8, 9, 8, 5],\n",
      "        [3, 8, 6, 9]])\n",
      "tensor([[4, 7, 7, 3, 6, 6, 9, 3],\n",
      "        [4, 7, 7, 3, 6, 6, 9, 3],\n",
      "        [4, 7, 7, 3, 5, 9, 2, 6],\n",
      "        [4, 7, 7, 3, 5, 9, 2, 6],\n",
      "        [4, 7, 7, 3, 4, 0, 6, 1],\n",
      "        [4, 7, 7, 3, 4, 0, 6, 1],\n",
      "        [4, 7, 7, 3, 4, 9, 3, 4],\n",
      "        [4, 7, 7, 3, 4, 9, 3, 4],\n",
      "        [4, 7, 7, 3, 8, 9, 8, 5],\n",
      "        [4, 7, 7, 3, 8, 9, 8, 5],\n",
      "        [4, 7, 7, 3, 3, 8, 6, 9],\n",
      "        [4, 7, 7, 3, 3, 8, 6, 9]])\n",
      "tensor([[0.1187],\n",
      "        [0.9621],\n",
      "        [0.4910],\n",
      "        [0.3155],\n",
      "        [0.3117],\n",
      "        [0.9652],\n",
      "        [0.2857],\n",
      "        [0.8461],\n",
      "        [0.1668],\n",
      "        [0.9221],\n",
      "        [0.8401],\n",
      "        [0.7171]])\n",
      "torch.Size([6, 2])\n"
     ]
    }
   ],
   "source": [
    "import torch\n",
    "import torch.nn as nn\n",
    "import numpy as np\n",
    "\n",
    "\n",
    "\n",
    "z_protos = torch.randint(0,10,(2,4))\n",
    "z_queries = torch.randint(0,10,(6,4))\n",
    "print(z_protos)\n",
    "print(z_queries)\n",
    "\n",
    "\n",
    "# repeat z_protos 5 times   \n",
    "z_queries = z_queries.repeat_interleave(2,0)\n",
    "\n",
    "z_protos = z_protos.repeat(6,1)\n",
    "\n",
    "# concat z_protos and z_queries\n",
    "z_protos = torch.cat((z_protos,z_queries),1)\n",
    "\n",
    "print(z_protos)\n",
    "\n",
    "\n",
    "scores = torch.rand(12,1)\n",
    "print(scores)\n",
    "\n",
    "scores = scores.view(-1,2)\n",
    "print(scores.shape)\n",
    "\n",
    "\n"
   ]
  },
  {
   "cell_type": "code",
   "execution_count": 47,
   "metadata": {},
   "outputs": [
    {
     "data": {
      "text/plain": [
       "torch.Size([75])"
      ]
     },
     "execution_count": 47,
     "metadata": {},
     "output_type": "execute_result"
    }
   ],
   "source": [
    "torch.from_numpy(np.repeat(range( 5), 15 )).shape"
   ]
  },
  {
   "cell_type": "code",
   "execution_count": 21,
   "metadata": {},
   "outputs": [
    {
     "data": {
      "text/plain": [
       "torch.Size([50, 5])"
      ]
     },
     "execution_count": 21,
     "metadata": {},
     "output_type": "execute_result"
    }
   ],
   "source": [
    "def euclidean_dist( x, y):\n",
    "    # x: N x D\n",
    "    # y: M x D\n",
    "    n = x.size(0)\n",
    "    m = y.size(0)\n",
    "    d = x.size(1)\n",
    "    assert d == y.size(1)\n",
    "\n",
    "    x = x.unsqueeze(1).expand(n, m, d)\n",
    "    y = y.unsqueeze(0).expand(n, m, d)\n",
    "\n",
    "    return torch.pow(x - y, 2).sum(2)\n",
    "\n",
    "\n",
    "euclidean_dist(z_queries, z_protos).shape"
   ]
  },
  {
   "cell_type": "code",
   "execution_count": null,
   "metadata": {},
   "outputs": [],
   "source": []
  }
 ],
 "metadata": {
  "kernelspec": {
   "display_name": "fewshotbench",
   "language": "python",
   "name": "python3"
  },
  "language_info": {
   "codemirror_mode": {
    "name": "ipython",
    "version": 3
   },
   "file_extension": ".py",
   "mimetype": "text/x-python",
   "name": "python",
   "nbconvert_exporter": "python",
   "pygments_lexer": "ipython3",
   "version": "3.10.11"
  }
 },
 "nbformat": 4,
 "nbformat_minor": 2
}
